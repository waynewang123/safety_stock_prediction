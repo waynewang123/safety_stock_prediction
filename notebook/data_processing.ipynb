{
 "cells": [
  {
   "cell_type": "code",
   "execution_count": 1,
   "id": "2c4ea0b0-f662-4d8c-90c7-65994f91bd2c",
   "metadata": {},
   "outputs": [],
   "source": [
    "import pandas as pd\n",
    "import numpy as np\n"
   ]
  },
  {
   "cell_type": "code",
   "execution_count": 10,
   "id": "4d962b41-4c49-4f8b-86f3-d1ae8a0fdd21",
   "metadata": {},
   "outputs": [],
   "source": [
    "raw0 = pd.read_excel('../data/raw/safety_stock_sample.xlsx',sheet_name=0)\n",
    "raw1 = pd.read_excel('../data/raw/safety_stock_sample.xlsx',sheet_name=1)\n",
    "raw2 = pd.read_excel('../data/raw/safety_stock_sample.xlsx',sheet_name=2)\n",
    "raw3 = pd.read_excel('../data/raw/safety_stock_sample.xlsx',sheet_name=3)\n",
    "raw4 = pd.read_excel('../data/raw/safety_stock_sample.xlsx',sheet_name=4)\n",
    "raw5 = pd.read_excel('../data/raw/safety_stock_sample.xlsx',sheet_name=5)\n",
    "raw6 = pd.read_excel('../data/raw/safety_stock_sample.xlsx',sheet_name=6)\n",
    "raw7 = pd.read_excel('../data/raw/safety_stock_sample.xlsx',sheet_name=7)\n",
    "raw8 = pd.read_excel('../data/raw/safety_stock_sample.xlsx',sheet_name=8)\n",
    "raw9 = pd.read_excel('../data/raw/safety_stock_sample.xlsx',sheet_name=9)"
   ]
  },
  {
   "cell_type": "code",
   "execution_count": 20,
   "id": "892394c8",
   "metadata": {},
   "outputs": [
    {
     "name": "stderr",
     "output_type": "stream",
     "text": [
      "/var/folders/w4/8j97c539713d5s_5j6kdbrq00000gn/T/ipykernel_73966/1808302562.py:1: FutureWarning: The frame.append method is deprecated and will be removed from pandas in a future version. Use pandas.concat instead.\n",
      "  raw = raw0.append(raw1).append(raw2).append(raw3).append(raw4).append(raw4).append(raw6).append(raw7).append(raw8).append(raw9).reset_index(drop = True)\n",
      "/var/folders/w4/8j97c539713d5s_5j6kdbrq00000gn/T/ipykernel_73966/1808302562.py:1: FutureWarning: The frame.append method is deprecated and will be removed from pandas in a future version. Use pandas.concat instead.\n",
      "  raw = raw0.append(raw1).append(raw2).append(raw3).append(raw4).append(raw4).append(raw6).append(raw7).append(raw8).append(raw9).reset_index(drop = True)\n",
      "/var/folders/w4/8j97c539713d5s_5j6kdbrq00000gn/T/ipykernel_73966/1808302562.py:1: FutureWarning: The frame.append method is deprecated and will be removed from pandas in a future version. Use pandas.concat instead.\n",
      "  raw = raw0.append(raw1).append(raw2).append(raw3).append(raw4).append(raw4).append(raw6).append(raw7).append(raw8).append(raw9).reset_index(drop = True)\n",
      "/var/folders/w4/8j97c539713d5s_5j6kdbrq00000gn/T/ipykernel_73966/1808302562.py:1: FutureWarning: The frame.append method is deprecated and will be removed from pandas in a future version. Use pandas.concat instead.\n",
      "  raw = raw0.append(raw1).append(raw2).append(raw3).append(raw4).append(raw4).append(raw6).append(raw7).append(raw8).append(raw9).reset_index(drop = True)\n",
      "/var/folders/w4/8j97c539713d5s_5j6kdbrq00000gn/T/ipykernel_73966/1808302562.py:1: FutureWarning: The frame.append method is deprecated and will be removed from pandas in a future version. Use pandas.concat instead.\n",
      "  raw = raw0.append(raw1).append(raw2).append(raw3).append(raw4).append(raw4).append(raw6).append(raw7).append(raw8).append(raw9).reset_index(drop = True)\n",
      "/var/folders/w4/8j97c539713d5s_5j6kdbrq00000gn/T/ipykernel_73966/1808302562.py:1: FutureWarning: The frame.append method is deprecated and will be removed from pandas in a future version. Use pandas.concat instead.\n",
      "  raw = raw0.append(raw1).append(raw2).append(raw3).append(raw4).append(raw4).append(raw6).append(raw7).append(raw8).append(raw9).reset_index(drop = True)\n",
      "/var/folders/w4/8j97c539713d5s_5j6kdbrq00000gn/T/ipykernel_73966/1808302562.py:1: FutureWarning: The frame.append method is deprecated and will be removed from pandas in a future version. Use pandas.concat instead.\n",
      "  raw = raw0.append(raw1).append(raw2).append(raw3).append(raw4).append(raw4).append(raw6).append(raw7).append(raw8).append(raw9).reset_index(drop = True)\n",
      "/var/folders/w4/8j97c539713d5s_5j6kdbrq00000gn/T/ipykernel_73966/1808302562.py:1: FutureWarning: The frame.append method is deprecated and will be removed from pandas in a future version. Use pandas.concat instead.\n",
      "  raw = raw0.append(raw1).append(raw2).append(raw3).append(raw4).append(raw4).append(raw6).append(raw7).append(raw8).append(raw9).reset_index(drop = True)\n"
     ]
    }
   ],
   "source": [
    "raw = raw0.append(raw1).append(raw2).append(raw3).append(raw4).append(raw4).append(raw6).append(raw7).append(raw8).append(raw9).reset_index(drop = True)"
   ]
  },
  {
   "cell_type": "code",
   "execution_count": 21,
   "id": "f4087054",
   "metadata": {},
   "outputs": [
    {
     "name": "stdout",
     "output_type": "stream",
     "text": [
      "<class 'pandas.core.frame.DataFrame'>\n",
      "RangeIndex: 24825 entries, 0 to 24824\n",
      "Data columns (total 5 columns):\n",
      " #   Column          Non-Null Count  Dtype         \n",
      "---  ------          --------------  -----         \n",
      " 0   Item number     24825 non-null  object        \n",
      " 1   Physical date   24825 non-null  datetime64[ns]\n",
      " 2   Financial date  24823 non-null  datetime64[ns]\n",
      " 3   Quantity        24825 non-null  int64         \n",
      " 4   Type            24825 non-null  object        \n",
      "dtypes: datetime64[ns](2), int64(1), object(2)\n",
      "memory usage: 969.9+ KB\n"
     ]
    }
   ],
   "source": [
    "raw.info()"
   ]
  },
  {
   "cell_type": "code",
   "execution_count": 23,
   "id": "6c219afc",
   "metadata": {},
   "outputs": [
    {
     "data": {
      "text/plain": [
       "Profit/Loss       24523\n",
       "Purchase order      271\n",
       "Transfer             30\n",
       "Counting              1\n",
       "Name: Type, dtype: int64"
      ]
     },
     "execution_count": 23,
     "metadata": {},
     "output_type": "execute_result"
    }
   ],
   "source": [
    "raw.Type.value_counts()"
   ]
  },
  {
   "cell_type": "code",
   "execution_count": 24,
   "id": "4a06b5a5",
   "metadata": {},
   "outputs": [
    {
     "data": {
      "text/html": [
       "<div>\n",
       "<style scoped>\n",
       "    .dataframe tbody tr th:only-of-type {\n",
       "        vertical-align: middle;\n",
       "    }\n",
       "\n",
       "    .dataframe tbody tr th {\n",
       "        vertical-align: top;\n",
       "    }\n",
       "\n",
       "    .dataframe thead th {\n",
       "        text-align: right;\n",
       "    }\n",
       "</style>\n",
       "<table border=\"1\" class=\"dataframe\">\n",
       "  <thead>\n",
       "    <tr style=\"text-align: right;\">\n",
       "      <th></th>\n",
       "      <th>Item number</th>\n",
       "      <th>Physical date</th>\n",
       "      <th>Financial date</th>\n",
       "      <th>Quantity</th>\n",
       "      <th>Type</th>\n",
       "    </tr>\n",
       "  </thead>\n",
       "  <tbody>\n",
       "    <tr>\n",
       "      <th>0</th>\n",
       "      <td>50040800100</td>\n",
       "      <td>2022-01-01</td>\n",
       "      <td>2022-01-01</td>\n",
       "      <td>-10</td>\n",
       "      <td>Profit/Loss</td>\n",
       "    </tr>\n",
       "    <tr>\n",
       "      <th>1</th>\n",
       "      <td>50040800100</td>\n",
       "      <td>2022-01-01</td>\n",
       "      <td>2022-01-01</td>\n",
       "      <td>-10</td>\n",
       "      <td>Profit/Loss</td>\n",
       "    </tr>\n",
       "    <tr>\n",
       "      <th>2</th>\n",
       "      <td>50040800100</td>\n",
       "      <td>2022-01-01</td>\n",
       "      <td>2022-01-01</td>\n",
       "      <td>-12</td>\n",
       "      <td>Profit/Loss</td>\n",
       "    </tr>\n",
       "    <tr>\n",
       "      <th>3</th>\n",
       "      <td>50040800100</td>\n",
       "      <td>2022-01-01</td>\n",
       "      <td>2022-01-01</td>\n",
       "      <td>-3</td>\n",
       "      <td>Profit/Loss</td>\n",
       "    </tr>\n",
       "    <tr>\n",
       "      <th>4</th>\n",
       "      <td>50040800100</td>\n",
       "      <td>2022-01-01</td>\n",
       "      <td>2022-01-01</td>\n",
       "      <td>-31</td>\n",
       "      <td>Profit/Loss</td>\n",
       "    </tr>\n",
       "  </tbody>\n",
       "</table>\n",
       "</div>"
      ],
      "text/plain": [
       "   Item number Physical date Financial date  Quantity         Type\n",
       "0  50040800100    2022-01-01     2022-01-01       -10  Profit/Loss\n",
       "1  50040800100    2022-01-01     2022-01-01       -10  Profit/Loss\n",
       "2  50040800100    2022-01-01     2022-01-01       -12  Profit/Loss\n",
       "3  50040800100    2022-01-01     2022-01-01        -3  Profit/Loss\n",
       "4  50040800100    2022-01-01     2022-01-01       -31  Profit/Loss"
      ]
     },
     "execution_count": 24,
     "metadata": {},
     "output_type": "execute_result"
    }
   ],
   "source": [
    "raw.head()"
   ]
  },
  {
   "cell_type": "code",
   "execution_count": 26,
   "id": "cfe0a381",
   "metadata": {},
   "outputs": [],
   "source": [
    "# we only care about the daily consumption\n",
    "raw = raw[(raw.Quantity <= 0)&(raw.Type == 'Profit/Loss')]"
   ]
  },
  {
   "cell_type": "code",
   "execution_count": 28,
   "id": "58c43cea",
   "metadata": {},
   "outputs": [
    {
     "data": {
      "text/html": [
       "<div>\n",
       "<style scoped>\n",
       "    .dataframe tbody tr th:only-of-type {\n",
       "        vertical-align: middle;\n",
       "    }\n",
       "\n",
       "    .dataframe tbody tr th {\n",
       "        vertical-align: top;\n",
       "    }\n",
       "\n",
       "    .dataframe thead th {\n",
       "        text-align: right;\n",
       "    }\n",
       "</style>\n",
       "<table border=\"1\" class=\"dataframe\">\n",
       "  <thead>\n",
       "    <tr style=\"text-align: right;\">\n",
       "      <th></th>\n",
       "      <th>Item number</th>\n",
       "      <th>Physical date</th>\n",
       "      <th>Financial date</th>\n",
       "      <th>Quantity</th>\n",
       "      <th>Type</th>\n",
       "    </tr>\n",
       "  </thead>\n",
       "  <tbody>\n",
       "    <tr>\n",
       "      <th>0</th>\n",
       "      <td>50040800100</td>\n",
       "      <td>2022-01-01</td>\n",
       "      <td>2022-01-01</td>\n",
       "      <td>-10</td>\n",
       "      <td>Profit/Loss</td>\n",
       "    </tr>\n",
       "    <tr>\n",
       "      <th>1</th>\n",
       "      <td>50040800100</td>\n",
       "      <td>2022-01-01</td>\n",
       "      <td>2022-01-01</td>\n",
       "      <td>-10</td>\n",
       "      <td>Profit/Loss</td>\n",
       "    </tr>\n",
       "    <tr>\n",
       "      <th>2</th>\n",
       "      <td>50040800100</td>\n",
       "      <td>2022-01-01</td>\n",
       "      <td>2022-01-01</td>\n",
       "      <td>-12</td>\n",
       "      <td>Profit/Loss</td>\n",
       "    </tr>\n",
       "    <tr>\n",
       "      <th>3</th>\n",
       "      <td>50040800100</td>\n",
       "      <td>2022-01-01</td>\n",
       "      <td>2022-01-01</td>\n",
       "      <td>-3</td>\n",
       "      <td>Profit/Loss</td>\n",
       "    </tr>\n",
       "    <tr>\n",
       "      <th>4</th>\n",
       "      <td>50040800100</td>\n",
       "      <td>2022-01-01</td>\n",
       "      <td>2022-01-01</td>\n",
       "      <td>-31</td>\n",
       "      <td>Profit/Loss</td>\n",
       "    </tr>\n",
       "  </tbody>\n",
       "</table>\n",
       "</div>"
      ],
      "text/plain": [
       "   Item number Physical date Financial date  Quantity         Type\n",
       "0  50040800100    2022-01-01     2022-01-01       -10  Profit/Loss\n",
       "1  50040800100    2022-01-01     2022-01-01       -10  Profit/Loss\n",
       "2  50040800100    2022-01-01     2022-01-01       -12  Profit/Loss\n",
       "3  50040800100    2022-01-01     2022-01-01        -3  Profit/Loss\n",
       "4  50040800100    2022-01-01     2022-01-01       -31  Profit/Loss"
      ]
     },
     "execution_count": 28,
     "metadata": {},
     "output_type": "execute_result"
    }
   ],
   "source": [
    "raw.head()"
   ]
  },
  {
   "cell_type": "code",
   "execution_count": 29,
   "id": "f8360799",
   "metadata": {},
   "outputs": [
    {
     "name": "stderr",
     "output_type": "stream",
     "text": [
      "/var/folders/w4/8j97c539713d5s_5j6kdbrq00000gn/T/ipykernel_73966/338180742.py:2: SettingWithCopyWarning: \n",
      "A value is trying to be set on a copy of a slice from a DataFrame.\n",
      "Try using .loc[row_indexer,col_indexer] = value instead\n",
      "\n",
      "See the caveats in the documentation: https://pandas.pydata.org/pandas-docs/stable/user_guide/indexing.html#returning-a-view-versus-a-copy\n",
      "  raw['Quantity'] = -raw['Quantity']\n"
     ]
    }
   ],
   "source": [
    "# we want data at item numer and physical date level\n",
    "raw['Quantity'] = -raw['Quantity']\n",
    "raw = raw.rename(columns = {\n",
    "    'Item number': 'item_number',\n",
    "    'Physical date': 'date',\n",
    "    'Quantity': 'consumption'\n",
    "})"
   ]
  },
  {
   "cell_type": "code",
   "execution_count": 30,
   "id": "6dfd0032",
   "metadata": {},
   "outputs": [
    {
     "data": {
      "text/html": [
       "<div>\n",
       "<style scoped>\n",
       "    .dataframe tbody tr th:only-of-type {\n",
       "        vertical-align: middle;\n",
       "    }\n",
       "\n",
       "    .dataframe tbody tr th {\n",
       "        vertical-align: top;\n",
       "    }\n",
       "\n",
       "    .dataframe thead th {\n",
       "        text-align: right;\n",
       "    }\n",
       "</style>\n",
       "<table border=\"1\" class=\"dataframe\">\n",
       "  <thead>\n",
       "    <tr style=\"text-align: right;\">\n",
       "      <th></th>\n",
       "      <th>item_number</th>\n",
       "      <th>date</th>\n",
       "      <th>Financial date</th>\n",
       "      <th>consumption</th>\n",
       "      <th>Type</th>\n",
       "    </tr>\n",
       "  </thead>\n",
       "  <tbody>\n",
       "    <tr>\n",
       "      <th>0</th>\n",
       "      <td>50040800100</td>\n",
       "      <td>2022-01-01</td>\n",
       "      <td>2022-01-01</td>\n",
       "      <td>10</td>\n",
       "      <td>Profit/Loss</td>\n",
       "    </tr>\n",
       "    <tr>\n",
       "      <th>1</th>\n",
       "      <td>50040800100</td>\n",
       "      <td>2022-01-01</td>\n",
       "      <td>2022-01-01</td>\n",
       "      <td>10</td>\n",
       "      <td>Profit/Loss</td>\n",
       "    </tr>\n",
       "    <tr>\n",
       "      <th>2</th>\n",
       "      <td>50040800100</td>\n",
       "      <td>2022-01-01</td>\n",
       "      <td>2022-01-01</td>\n",
       "      <td>12</td>\n",
       "      <td>Profit/Loss</td>\n",
       "    </tr>\n",
       "    <tr>\n",
       "      <th>3</th>\n",
       "      <td>50040800100</td>\n",
       "      <td>2022-01-01</td>\n",
       "      <td>2022-01-01</td>\n",
       "      <td>3</td>\n",
       "      <td>Profit/Loss</td>\n",
       "    </tr>\n",
       "    <tr>\n",
       "      <th>4</th>\n",
       "      <td>50040800100</td>\n",
       "      <td>2022-01-01</td>\n",
       "      <td>2022-01-01</td>\n",
       "      <td>31</td>\n",
       "      <td>Profit/Loss</td>\n",
       "    </tr>\n",
       "  </tbody>\n",
       "</table>\n",
       "</div>"
      ],
      "text/plain": [
       "   item_number       date Financial date  consumption         Type\n",
       "0  50040800100 2022-01-01     2022-01-01           10  Profit/Loss\n",
       "1  50040800100 2022-01-01     2022-01-01           10  Profit/Loss\n",
       "2  50040800100 2022-01-01     2022-01-01           12  Profit/Loss\n",
       "3  50040800100 2022-01-01     2022-01-01            3  Profit/Loss\n",
       "4  50040800100 2022-01-01     2022-01-01           31  Profit/Loss"
      ]
     },
     "execution_count": 30,
     "metadata": {},
     "output_type": "execute_result"
    }
   ],
   "source": [
    "raw.head()"
   ]
  },
  {
   "cell_type": "code",
   "execution_count": 42,
   "id": "e33e5079",
   "metadata": {},
   "outputs": [],
   "source": [
    "process_data = raw.groupby(['item_number', 'date']).consumption.sum().reset_index()"
   ]
  },
  {
   "cell_type": "code",
   "execution_count": 43,
   "id": "c5a680d4",
   "metadata": {},
   "outputs": [
    {
     "data": {
      "text/html": [
       "<div>\n",
       "<style scoped>\n",
       "    .dataframe tbody tr th:only-of-type {\n",
       "        vertical-align: middle;\n",
       "    }\n",
       "\n",
       "    .dataframe tbody tr th {\n",
       "        vertical-align: top;\n",
       "    }\n",
       "\n",
       "    .dataframe thead th {\n",
       "        text-align: right;\n",
       "    }\n",
       "</style>\n",
       "<table border=\"1\" class=\"dataframe\">\n",
       "  <thead>\n",
       "    <tr style=\"text-align: right;\">\n",
       "      <th></th>\n",
       "      <th>item_number</th>\n",
       "      <th>date</th>\n",
       "      <th>consumption</th>\n",
       "    </tr>\n",
       "  </thead>\n",
       "  <tbody>\n",
       "    <tr>\n",
       "      <th>0</th>\n",
       "      <td>50040800100</td>\n",
       "      <td>2022-01-01</td>\n",
       "      <td>170</td>\n",
       "    </tr>\n",
       "    <tr>\n",
       "      <th>1</th>\n",
       "      <td>50040800100</td>\n",
       "      <td>2022-01-03</td>\n",
       "      <td>172</td>\n",
       "    </tr>\n",
       "    <tr>\n",
       "      <th>2</th>\n",
       "      <td>50040800100</td>\n",
       "      <td>2022-01-05</td>\n",
       "      <td>188</td>\n",
       "    </tr>\n",
       "    <tr>\n",
       "      <th>3</th>\n",
       "      <td>50040800100</td>\n",
       "      <td>2022-01-07</td>\n",
       "      <td>228</td>\n",
       "    </tr>\n",
       "    <tr>\n",
       "      <th>4</th>\n",
       "      <td>50040800100</td>\n",
       "      <td>2022-01-09</td>\n",
       "      <td>171</td>\n",
       "    </tr>\n",
       "  </tbody>\n",
       "</table>\n",
       "</div>"
      ],
      "text/plain": [
       "   item_number       date  consumption\n",
       "0  50040800100 2022-01-01          170\n",
       "1  50040800100 2022-01-03          172\n",
       "2  50040800100 2022-01-05          188\n",
       "3  50040800100 2022-01-07          228\n",
       "4  50040800100 2022-01-09          171"
      ]
     },
     "execution_count": 43,
     "metadata": {},
     "output_type": "execute_result"
    }
   ],
   "source": [
    "process_data.head()"
   ]
  },
  {
   "cell_type": "code",
   "execution_count": 44,
   "id": "d7a92269",
   "metadata": {},
   "outputs": [],
   "source": [
    "process_data.to_csv('../data/ingested/processed_data.csv', index = False)"
   ]
  },
  {
   "cell_type": "code",
   "execution_count": 45,
   "id": "d2e0bcfa",
   "metadata": {},
   "outputs": [
    {
     "data": {
      "text/html": [
       "<div>\n",
       "<style scoped>\n",
       "    .dataframe tbody tr th:only-of-type {\n",
       "        vertical-align: middle;\n",
       "    }\n",
       "\n",
       "    .dataframe tbody tr th {\n",
       "        vertical-align: top;\n",
       "    }\n",
       "\n",
       "    .dataframe thead th {\n",
       "        text-align: right;\n",
       "    }\n",
       "</style>\n",
       "<table border=\"1\" class=\"dataframe\">\n",
       "  <thead>\n",
       "    <tr style=\"text-align: right;\">\n",
       "      <th></th>\n",
       "      <th>item_number</th>\n",
       "      <th>date</th>\n",
       "      <th>consumption</th>\n",
       "    </tr>\n",
       "  </thead>\n",
       "  <tbody>\n",
       "    <tr>\n",
       "      <th>0</th>\n",
       "      <td>50040800100</td>\n",
       "      <td>2022-01-01</td>\n",
       "      <td>170</td>\n",
       "    </tr>\n",
       "    <tr>\n",
       "      <th>1</th>\n",
       "      <td>50040800100</td>\n",
       "      <td>2022-01-03</td>\n",
       "      <td>172</td>\n",
       "    </tr>\n",
       "    <tr>\n",
       "      <th>2</th>\n",
       "      <td>50040800100</td>\n",
       "      <td>2022-01-05</td>\n",
       "      <td>188</td>\n",
       "    </tr>\n",
       "    <tr>\n",
       "      <th>3</th>\n",
       "      <td>50040800100</td>\n",
       "      <td>2022-01-07</td>\n",
       "      <td>228</td>\n",
       "    </tr>\n",
       "    <tr>\n",
       "      <th>4</th>\n",
       "      <td>50040800100</td>\n",
       "      <td>2022-01-09</td>\n",
       "      <td>171</td>\n",
       "    </tr>\n",
       "  </tbody>\n",
       "</table>\n",
       "</div>"
      ],
      "text/plain": [
       "   item_number        date  consumption\n",
       "0  50040800100  2022-01-01          170\n",
       "1  50040800100  2022-01-03          172\n",
       "2  50040800100  2022-01-05          188\n",
       "3  50040800100  2022-01-07          228\n",
       "4  50040800100  2022-01-09          171"
      ]
     },
     "execution_count": 45,
     "metadata": {},
     "output_type": "execute_result"
    }
   ],
   "source": [
    "process_data = pd.read_csv('../data/ingested/processed_data.csv')\n",
    "process_data.head()"
   ]
  },
  {
   "cell_type": "code",
   "execution_count": null,
   "id": "48a9d5d7",
   "metadata": {},
   "outputs": [],
   "source": []
  }
 ],
 "metadata": {
  "interpreter": {
   "hash": "c3146a906cf298618eec673a603d85f2164852b72b71f4b9db2782c65b067601"
  },
  "kernelspec": {
   "display_name": "Python 3.10.9",
   "language": "python",
   "name": "python3"
  },
  "language_info": {
   "codemirror_mode": {
    "name": "ipython",
    "version": 3
   },
   "file_extension": ".py",
   "mimetype": "text/x-python",
   "name": "python",
   "nbconvert_exporter": "python",
   "pygments_lexer": "ipython3",
   "version": "3.10.9"
  }
 },
 "nbformat": 4,
 "nbformat_minor": 5
}
