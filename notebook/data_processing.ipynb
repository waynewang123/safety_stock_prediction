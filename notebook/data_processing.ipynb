{
 "cells": [
  {
   "cell_type": "code",
   "execution_count": 1,
   "id": "2c4ea0b0-f662-4d8c-90c7-65994f91bd2c",
   "metadata": {},
   "outputs": [],
   "source": [
    "import pandas as pd\n",
    "import numpy as np\n"
   ]
  },
  {
   "cell_type": "code",
   "execution_count": 9,
   "id": "c55013b6-a834-4d80-a0fe-49471789b672",
   "metadata": {},
   "outputs": [
    {
     "name": "stdout",
     "output_type": "stream",
     "text": [
      "ls: ../safety_stock_prediction: No such file or directory\n"
     ]
    }
   ],
   "source": [
    "!ls '../safety_stock_prediction'"
   ]
  },
  {
   "cell_type": "code",
   "execution_count": null,
   "id": "4d962b41-4c49-4f8b-86f3-d1ae8a0fdd21",
   "metadata": {},
   "outputs": [],
   "source": [
    "raw = pd.read_xlsx('../data/raw/safety_stock_sample.xlsx')"
   ]
  }
 ],
 "metadata": {
  "kernelspec": {
   "display_name": "Python 3.10.9",
   "language": "python",
   "name": "python3109jvsc74a57bd0c3146a906cf298618eec673a603d85f2164852b72b71f4b9db2782c65b067601"
  },
  "language_info": {
   "codemirror_mode": {
    "name": "ipython",
    "version": 3
   },
   "file_extension": ".py",
   "mimetype": "text/x-python",
   "name": "python",
   "nbconvert_exporter": "python",
   "pygments_lexer": "ipython3",
   "version": "3.10.9"
  }
 },
 "nbformat": 4,
 "nbformat_minor": 5
}
